{
 "cells": [
  {
   "cell_type": "code",
   "execution_count": 2,
   "id": "4bdeff71",
   "metadata": {},
   "outputs": [
    {
     "ename": "ModuleNotFoundError",
     "evalue": "No module named 'nltk'",
     "output_type": "error",
     "traceback": [
      "\u001b[0;31m---------------------------------------------------------------------------\u001b[0m",
      "\u001b[0;31mModuleNotFoundError\u001b[0m                       Traceback (most recent call last)",
      "\u001b[1;32m/home/gagan/Desktop/IRE/wiki-search-Project-Sem3/Untitled.ipynb Cell 1\u001b[0m in \u001b[0;36m<cell line: 4>\u001b[0;34m()\u001b[0m\n\u001b[1;32m      <a href='vscode-notebook-cell:/home/gagan/Desktop/IRE/wiki-search-Project-Sem3/Untitled.ipynb#ch0000000?line=1'>2</a>\u001b[0m \u001b[39mimport\u001b[39;00m \u001b[39mxml\u001b[39;00m\u001b[39m.\u001b[39;00m\u001b[39msax\u001b[39;00m\n\u001b[1;32m      <a href='vscode-notebook-cell:/home/gagan/Desktop/IRE/wiki-search-Project-Sem3/Untitled.ipynb#ch0000000?line=2'>3</a>\u001b[0m \u001b[39mimport\u001b[39;00m \u001b[39mstring\u001b[39;00m\n\u001b[0;32m----> <a href='vscode-notebook-cell:/home/gagan/Desktop/IRE/wiki-search-Project-Sem3/Untitled.ipynb#ch0000000?line=3'>4</a>\u001b[0m \u001b[39mimport\u001b[39;00m \u001b[39mnltk\u001b[39;00m\n\u001b[1;32m      <a href='vscode-notebook-cell:/home/gagan/Desktop/IRE/wiki-search-Project-Sem3/Untitled.ipynb#ch0000000?line=4'>5</a>\u001b[0m nltk\u001b[39m.\u001b[39mdownload(\u001b[39m'\u001b[39m\u001b[39mpunkt\u001b[39m\u001b[39m'\u001b[39m)\n\u001b[1;32m      <a href='vscode-notebook-cell:/home/gagan/Desktop/IRE/wiki-search-Project-Sem3/Untitled.ipynb#ch0000000?line=5'>6</a>\u001b[0m nltk\u001b[39m.\u001b[39mdownload(\u001b[39m'\u001b[39m\u001b[39mstopwords\u001b[39m\u001b[39m'\u001b[39m)\n",
      "\u001b[0;31mModuleNotFoundError\u001b[0m: No module named 'nltk'"
     ]
    }
   ],
   "source": [
    "import timeit\n",
    "import xml.sax\n",
    "import string\n",
    "import nltk\n",
    "nltk.download('punkt')\n",
    "nltk.download('stopwords')\n",
    "from nltk import word_tokenize\n",
    "from nltk.corpus import stopwords\n",
    "from nltk.stem.porter import PorterStemmer\n",
    "from nltk import pos_tag\n",
    "from collections import defaultdict\n",
    "from Stemmer import Stemmer\n",
    "import re \n"
   ]
  },
  {
   "cell_type": "code",
   "execution_count": 2,
   "id": "1279b367",
   "metadata": {},
   "outputs": [],
   "source": [
    "stopwords= defaultdict(int)\n",
    "title_dict = defaultdict(str)\n",
    "unique_words = set()"
   ]
  },
  {
   "cell_type": "code",
   "execution_count": 3,
   "id": "56cd5db9",
   "metadata": {},
   "outputs": [],
   "source": [
    "def build_stopWordsDict():                               # Building Stop Words Dictionary\n",
    "    global stopwords\n",
    "    with open ('StopWords.txt','r') as f:\n",
    "        for i in f:\n",
    "            i=i.strip(' ').strip(\"\\n\")\n",
    "            stopwords[i]=1\n",
    "\n",
    "def makeDict(datalist):\n",
    "    datalist = removeStopWords(datalist)\n",
    "    p=[]\n",
    "    temp=defaultdict(int)\n",
    "    datalist= stem(datalist)\n",
    "\n",
    "    for x in datalist:\n",
    "        temp[x]=temp[x]+1\n",
    "    return temp\n",
    "\n"
   ]
  },
  {
   "cell_type": "code",
   "execution_count": 4,
   "id": "4871482d",
   "metadata": {},
   "outputs": [],
   "source": [
    "def preProcess(text):\n",
    "    # Converting to lower case\n",
    "    %time\n",
    "    text = text.lower()\n",
    "    # Removing all the special characters\n",
    "    %time\n",
    "    text_p = \"\".join([char for char in text if char not in string.punctuation])\n",
    "    # Tokenizing the text\n",
    "    %time\n",
    "    tokens = word_tokenize(text_p)\n",
    "    # Removing stop words\n",
    "    %time\n",
    "    tokens = removeStopWords(tokens)\n",
    "    # Stemming the tokens\n",
    "    %time\n",
    "    ps = PorterStemmer()\n",
    "    tokens = [ps.stem(word) for word in tokens]\n",
    "    return tokens"
   ]
  },
  {
   "cell_type": "code",
   "execution_count": 5,
   "id": "53ac6fd6",
   "metadata": {},
   "outputs": [],
   "source": [
    "def processTitle(data):\n",
    "    data=data.lower()\n",
    "    data_tok=re.findall(r'\\d+|[\\w]+',data)\n",
    "    temp=makeDict(data_tok)\n",
    "    return temp  \n",
    "\n",
    "def removeStopWords(dataLis):                           # Removing Stop Words\n",
    "    temp=[key for key in dataLis if stopwords[key]!=1]\n",
    "    return temp\n",
    "\n",
    "def stem(datalist):                                        #Stemming the data\n",
    "    finalLis=[]\n",
    "    stemmer=Stemmer(\"english\")\n",
    "    for i in datalist:\n",
    "        finalLis.append(stemmer.stemWord(i))\n",
    "    return finalLis\n",
    "\n",
    "def titleWrite(file_count):\n",
    "    global title_dict\n",
    "    with open(\"temp/title\"+str(file_count)+\".tsv\",\"w\") as f:\n",
    "        li=sorted(title_dict.keys())\n",
    "        fp.write(str(li[0]))\n",
    "        for doc_id in (li):\n",
    "            f.write(str(doc_id))\n",
    "            f.write(\"\\t\"+str(title_dict[doc_id])+\"\\n\")\n",
    "\n",
    "\n"
   ]
  },
  {
   "cell_type": "code",
   "execution_count": 6,
   "id": "13531bb0",
   "metadata": {},
   "outputs": [],
   "source": [
    "class WikiHandler(xml.sax.ContentHandler):\n",
    "    def __init__(self):\n",
    "        self.title=0\n",
    "        self.title_data = \"\"\n",
    "        self.page_count = 0 # For Counting the pages Parsed till now\n",
    "        self.title_count = 0 # Counting title for 1 title file\n",
    "        self.title_file_count = 0\n",
    "        self.title_id_stat = 0\n",
    "        self.page_stat = 0\n",
    "        self.bufid = \"\" # For Unique ID of Title \n",
    "    \n",
    "    def Index_Create_Fun(self,title_data):\n",
    "        global title_dict\n",
    "        if self.title_count > 200000:\n",
    "            print(self.title_count)\n",
    "            titleWrite(self.title_file_count)\n",
    "            self.title_count = 0\n",
    "            self.title_file_count = self.title_file_count + 1\n",
    "            title_dict=defaultdict(str)\n",
    "\n",
    "    \n",
    "    def startElement(self,tag,attr):\n",
    "        global unique_words\n",
    "        if(tag==\"id\" and self.page_stat==0):\n",
    "            self.page_stat=1\n",
    "            self.title_id_stat=1\n",
    "            self.bufid=\"\"\n",
    "        if(tag == \"title\"):\n",
    "            self.title = 1\n",
    "            self.title_data = \"\"\n",
    "        if(tag == \"page\"):\n",
    "            if(self.page_count == 10):\n",
    "                print(unique_words)\n",
    "                print(len(unique_words))\n",
    "                exit()\n",
    "            self.page_count = self.page_count + 1\n",
    "            self.title_count = self.title_count + 1\n",
    "        \n",
    "\n",
    "    def characters(self, content):\n",
    "        if (self.title_id_stat==1 and self.page_stat==1):\n",
    "            self.bufid += content\n",
    "            title_dict[int(self.bufid)]=self.title_data\n",
    "        if(self.title == 1):\n",
    "            self.title_data += content\n",
    "        \n",
    "\n",
    "    def endElement(self, tag):\n",
    "        if(tag==\"page\"):\n",
    "            self.page_stat=0\n",
    "            self.title_count+=1\n",
    "        if(tag==\"id\"):\n",
    "            self.title_id_stat=0\n",
    "        if(tag == \"title\"):\n",
    "            self.title = 0\n",
    "            self.title_data_dict = processTitle(self.title_data)\n",
    "        if(tag==\"text\"):\n",
    "            WikiHandler.Index_Create_Fun(self,self.title_data )\n",
    "        \n",
    "            \n",
    "\n",
    "\n"
   ]
  },
  {
   "cell_type": "code",
   "execution_count": 7,
   "id": "fe58b005",
   "metadata": {},
   "outputs": [
    {
     "name": "stdout",
     "output_type": "stream",
     "text": [
      "set()\n",
      "0\n",
      "200001\n",
      "200002\n",
      "200002\n",
      "200002\n",
      "29.49293077699997\n"
     ]
    }
   ],
   "source": [
    "def main1():\n",
    "    global fp\n",
    "    fp=open(\"temp/title_offset.tsv\",\"w\")\n",
    "    par=xml.sax.make_parser()\n",
    "    Handler = WikiHandler()\n",
    "    par.setFeature(xml.sax.handler.feature_namespaces,0)\n",
    "    par.setContentHandler( Handler )\n",
    "    par.parse('data.xml')\n",
    "\n",
    "\n",
    "\n",
    "if __name__ == \"__main__\":                                          \n",
    "    start = timeit.default_timer()\n",
    "    build_stopWordsDict()\n",
    "    main1()\n",
    "    stop = timeit.default_timer()\n",
    "    print (stop - start)\n"
   ]
  },
  {
   "cell_type": "code",
   "execution_count": null,
   "id": "20329726",
   "metadata": {},
   "outputs": [],
   "source": []
  },
  {
   "cell_type": "code",
   "execution_count": null,
   "id": "05af1396",
   "metadata": {},
   "outputs": [],
   "source": []
  },
  {
   "cell_type": "code",
   "execution_count": null,
   "id": "e865a438",
   "metadata": {},
   "outputs": [],
   "source": []
  },
  {
   "cell_type": "code",
   "execution_count": null,
   "id": "8cb8ad63",
   "metadata": {},
   "outputs": [],
   "source": []
  },
  {
   "cell_type": "code",
   "execution_count": null,
   "id": "b2022648",
   "metadata": {},
   "outputs": [],
   "source": []
  },
  {
   "cell_type": "code",
   "execution_count": null,
   "id": "cbc31714",
   "metadata": {},
   "outputs": [],
   "source": []
  },
  {
   "cell_type": "code",
   "execution_count": null,
   "id": "74c3725a",
   "metadata": {},
   "outputs": [],
   "source": []
  },
  {
   "cell_type": "code",
   "execution_count": null,
   "id": "cb667faa",
   "metadata": {},
   "outputs": [],
   "source": []
  },
  {
   "cell_type": "code",
   "execution_count": null,
   "id": "97f5323c",
   "metadata": {},
   "outputs": [],
   "source": []
  },
  {
   "cell_type": "code",
   "execution_count": null,
   "id": "efb8a63b",
   "metadata": {},
   "outputs": [],
   "source": []
  }
 ],
 "metadata": {
  "kernelspec": {
   "display_name": "Python 3.10.4 ('wikienv': venv)",
   "language": "python",
   "name": "python3"
  },
  "language_info": {
   "codemirror_mode": {
    "name": "ipython",
    "version": 3
   },
   "file_extension": ".py",
   "mimetype": "text/x-python",
   "name": "python",
   "nbconvert_exporter": "python",
   "pygments_lexer": "ipython3",
   "version": "3.10.4"
  },
  "vscode": {
   "interpreter": {
    "hash": "e479c0274aba5cbda4f690152cccfcf30d48199e09486b962ccd9f523465a578"
   }
  }
 },
 "nbformat": 4,
 "nbformat_minor": 5
}
